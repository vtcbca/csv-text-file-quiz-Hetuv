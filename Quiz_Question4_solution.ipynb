{
 "cells": [
  {
   "cell_type": "code",
   "execution_count": 2,
   "id": "98573d11",
   "metadata": {},
   "outputs": [],
   "source": [
    "import csv"
   ]
  },
  {
   "cell_type": "code",
   "execution_count": 13,
   "id": "4ef3bbb1",
   "metadata": {},
   "outputs": [],
   "source": [
    "# Create salary.csv file which contain sid,sname,salary.\n",
    "#    Display the employee record whose name begins from \"S‟ also show no. of employee with first letter \"S‟ out of total record.\n",
    "#          2,om,4000\n",
    "#          5,sai,4200\n",
    "#          Number of \"S‟ names are 2/5"
   ]
  },
  {
   "cell_type": "code",
   "execution_count": 13,
   "id": "969e79c8",
   "metadata": {},
   "outputs": [],
   "source": [
    "with open('c:\\\\sqlite3\\\\22bca35\\\\salary.csv','w',newline='') as f:\n",
    "    w=csv.writer(f)\n",
    "    h=['Id','Name','Salary']\n",
    "    a=[[1,'om',20000],[1,'sai',21000],[3,'ram',10000],[4,'sudha',35000],[5,'krishna',11000]]\n",
    "    w.writerow(h)\n",
    "    w.writerows(a)"
   ]
  },
  {
   "cell_type": "code",
   "execution_count": 14,
   "id": "d9159f66",
   "metadata": {},
   "outputs": [
    {
     "name": "stdout",
     "output_type": "stream",
     "text": [
      "['1', 'sai', '21000']\n",
      "['4', 'sudha', '35000']\n",
      "Number of \"S‟ names are 2 / 5\n"
     ]
    }
   ],
   "source": [
    "with open('c:\\\\sqlite3\\\\22bca35\\\\salary.csv','r') as f:\n",
    "    r=csv.reader(f)\n",
    "    c=0\n",
    "    t=0\n",
    "    for i in r:\n",
    "        if(i[1][0]=='s'):\n",
    "            print(i)\n",
    "            c=c+1\n",
    "        t=t+1\n",
    "    print('Number of \"S‟ names are',c,'/',t-1)"
   ]
  }
 ],
 "metadata": {
  "kernelspec": {
   "display_name": "Python 3 (ipykernel)",
   "language": "python",
   "name": "python3"
  },
  "language_info": {
   "codemirror_mode": {
    "name": "ipython",
    "version": 3
   },
   "file_extension": ".py",
   "mimetype": "text/x-python",
   "name": "python",
   "nbconvert_exporter": "python",
   "pygments_lexer": "ipython3",
   "version": "3.9.6"
  }
 },
 "nbformat": 4,
 "nbformat_minor": 5
}
